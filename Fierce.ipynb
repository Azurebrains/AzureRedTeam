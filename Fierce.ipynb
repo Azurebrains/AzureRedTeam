{
  "cells": [
    {
      "metadata": {},
      "cell_type": "markdown",
      "source": "<H1>Azure Notebooks para Red Teams</H1>"
    },
    {
      "metadata": {},
      "cell_type": "markdown",
      "source": "<H2>Footprinting y Reconocimiento. Fierce</H2>"
    },
    {
      "metadata": {},
      "cell_type": "markdown",
      "source": "<H3>En este Notebook instalamos la herramienta Fierce, que basándose en el servicio DNS nos permite localizar subdominios y rangos de direcciones IP de nuestro objetivo</H3>"
    },
    {
      "metadata": {},
      "cell_type": "markdown",
      "source": "Empezamos clonando el proyecto desde GitHub"
    },
    {
      "metadata": {
        "trusted": true,
        "scrolled": false
      },
      "cell_type": "code",
      "source": "!git clone https://github.com/mschwager/fierce.git",
      "execution_count": null,
      "outputs": []
    },
    {
      "metadata": {},
      "cell_type": "markdown",
      "source": "Para evitar problemas de permisos y de localización de archivos a causa del uso de ruta relativas, movemos los archivos clonados al directorio raíz."
    },
    {
      "metadata": {
        "trusted": true
      },
      "cell_type": "code",
      "source": "!mv fierce/fierce/* .",
      "execution_count": null,
      "outputs": []
    },
    {
      "metadata": {},
      "cell_type": "markdown",
      "source": "Instalamos los requisitos necesarios para el script que vamos a ejecutar. Estos requisitos están en el archivo requirements.txt. Podemos ver el contenido de este archivo haciendo un \"!cat requirements.txt\""
    },
    {
      "metadata": {
        "trusted": true,
        "scrolled": false
      },
      "cell_type": "code",
      "source": "!pip install -r requirements.txt",
      "execution_count": null,
      "outputs": []
    },
    {
      "metadata": {},
      "cell_type": "markdown",
      "source": "Definimos una variable para introducir la URL del dominio que queremos escanear:"
    },
    {
      "metadata": {
        "trusted": true
      },
      "cell_type": "code",
      "source": "url=\"franciscosepulveda.eu\"  # Introduce aquí la URL del dominio que quieres escanear",
      "execution_count": null,
      "outputs": []
    },
    {
      "metadata": {},
      "cell_type": "markdown",
      "source": "Y ejecutamos el script para que nos devuelva la información que sea capaz de recopilar."
    },
    {
      "metadata": {
        "trusted": true
      },
      "cell_type": "code",
      "source": "!python fierce.py --domain $url",
      "execution_count": null,
      "outputs": []
    },
    {
      "metadata": {
        "trusted": true
      },
      "cell_type": "code",
      "source": "",
      "execution_count": null,
      "outputs": []
    }
  ],
  "metadata": {
    "kernelspec": {
      "name": "python36",
      "display_name": "Python 3.6",
      "language": "python"
    },
    "language_info": {
      "mimetype": "text/x-python",
      "nbconvert_exporter": "python",
      "name": "python",
      "pygments_lexer": "ipython3",
      "version": "3.6.6",
      "file_extension": ".py",
      "codemirror_mode": {
        "version": 3,
        "name": "ipython"
      }
    }
  },
  "nbformat": 4,
  "nbformat_minor": 2
}