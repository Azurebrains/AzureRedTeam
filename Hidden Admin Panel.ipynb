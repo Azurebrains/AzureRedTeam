{
  "cells": [
    {
      "metadata": {},
      "cell_type": "markdown",
      "source": "<H1>Azure Notebooks para Red Teams</H1>\n<H2>Buscador de Paneles de Administración Ocultos</H2>"
    },
    {
      "metadata": {},
      "cell_type": "markdown",
      "source": "<H3>En este Notebook instalamos y ejecutamos una aplicación que nos permite encontrar paneles de administración ocultos en aplicaciones web como Wordpress, Joomla, ...</H3>"
    },
    {
      "metadata": {},
      "cell_type": "markdown",
      "source": "Empezamos clonando un proyecto de GitHub que nos va a permitir ejecutar la tarea de escaneo de paneles de administración"
    },
    {
      "metadata": {
        "trusted": true
      },
      "cell_type": "code",
      "source": "!git clone https://github.com/mIcHyAmRaNe/okadminfinder3.git",
      "execution_count": null,
      "outputs": []
    },
    {
      "metadata": {},
      "cell_type": "markdown",
      "source": "Para evitar problemas de permisos y de localización de archivos a causa del uso de rutas relativas, movemos los archivos clonados al directorio raíz"
    },
    {
      "metadata": {
        "trusted": true
      },
      "cell_type": "code",
      "source": "!mv okadminfinder3/* .",
      "execution_count": null,
      "outputs": []
    },
    {
      "metadata": {},
      "cell_type": "markdown",
      "source": "Instalamos los requisitos necesarios para el script que vamos a ejecutar. Estos requisitos están en el archivo requirements.txt. Podemos ver el contenido de este archivo haciendo un \"!cat requirements.txt\""
    },
    {
      "metadata": {
        "trusted": true,
        "scrolled": true
      },
      "cell_type": "code",
      "source": "!pip install -r requirements.txt",
      "execution_count": null,
      "outputs": []
    },
    {
      "metadata": {},
      "cell_type": "markdown",
      "source": "Definimos una variable con la URL o la IP de la aplicación web que queremos escanear:"
    },
    {
      "metadata": {
        "trusted": true
      },
      "cell_type": "code",
      "source": "url=\"blog.franciscosepulveda.eu/wordpress\" # introduce aquí la URL o la IP de la aplicación a escanear",
      "execution_count": null,
      "outputs": []
    },
    {
      "metadata": {},
      "cell_type": "markdown",
      "source": "Y ejecutamos el script, que nos dirá si la aplicación tiene algún panel de administración o página de login"
    },
    {
      "metadata": {
        "trusted": true,
        "scrolled": false
      },
      "cell_type": "code",
      "source": "!python okadminfinder.py -u $url",
      "execution_count": null,
      "outputs": []
    },
    {
      "metadata": {
        "trusted": true
      },
      "cell_type": "code",
      "source": "",
      "execution_count": null,
      "outputs": []
    }
  ],
  "metadata": {
    "kernelspec": {
      "name": "python36",
      "display_name": "Python 3.6",
      "language": "python"
    },
    "language_info": {
      "mimetype": "text/x-python",
      "nbconvert_exporter": "python",
      "name": "python",
      "pygments_lexer": "ipython3",
      "version": "3.6.6",
      "file_extension": ".py",
      "codemirror_mode": {
        "version": 3,
        "name": "ipython"
      }
    }
  },
  "nbformat": 4,
  "nbformat_minor": 2
}