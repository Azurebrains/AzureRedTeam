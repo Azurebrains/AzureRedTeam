{
  "cells": [
    {
      "metadata": {},
      "cell_type": "markdown",
      "source": "<H1> Escáner de puertos básico </H1>"
    },
    {
      "metadata": {},
      "cell_type": "markdown",
      "source": "<H3> Usamos sockets en Python para determinar si los puertos de un rango están abiertos o cerrados </H3>"
    },
    {
      "metadata": {
        "trusted": true
      },
      "cell_type": "code",
      "source": "#!/usr/bin/env python\n# Paco Sepúlveda\n# Script básico para escanear puertos desde Python usando sockets\n\nfrom threading import Thread\nimport socket\nhost = \"wpdemomeetup.eastus2.cloudapp.azure.com\"\npuerto_inicial = 20\npuerto_final = 80   \npuertos_abiertos = []\npuertos_cerrados = []\nthreads = []\n\ndef scan(port):\n    s = socket.socket()\n    s.settimeout(3)\n    result = s.connect_ex((host,port))\n    print('probando el puerto > '+(str(port)))      \n    if result == 0:\n        puertos_abiertos.append(port)\n        print (\"-\" * 60)\n        print((str(port))+' -> abierto')\n        print (\"-\" * 60)\n        s.close()\n    else:\n        puertos_cerrados.append(port)\n        s.close()\n\nfor i in range(puerto_inicial, puerto_final+1):\n    t = Thread(target=scan, args=(i,))\n    threads.append(t)\n    t.start()\n\n[x.join() for x in threads]\n\nprint('Los puertos que hemos encontrado abiertos son > ' + (str(puertos_abiertos)))",
      "execution_count": null,
      "outputs": []
    },
    {
      "metadata": {
        "trusted": true
      },
      "cell_type": "code",
      "source": "",
      "execution_count": null,
      "outputs": []
    }
  ],
  "metadata": {
    "kernelspec": {
      "name": "python36",
      "display_name": "Python 3.6",
      "language": "python"
    },
    "language_info": {
      "mimetype": "text/x-python",
      "nbconvert_exporter": "python",
      "name": "python",
      "pygments_lexer": "ipython3",
      "version": "3.6.6",
      "file_extension": ".py",
      "codemirror_mode": {
        "version": 3,
        "name": "ipython"
      }
    }
  },
  "nbformat": 4,
  "nbformat_minor": 2
}