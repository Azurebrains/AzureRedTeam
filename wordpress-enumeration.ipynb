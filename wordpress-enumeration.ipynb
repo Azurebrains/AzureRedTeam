{
  "cells": [
    {
      "metadata": {},
      "cell_type": "markdown",
      "source": "<H1>Enumeración de usuarios de WordPress</H1>"
    },
    {
      "metadata": {},
      "cell_type": "markdown",
      "source": "<H2>En una instalación de WordPress es muy sencillo enumerar los usuarios que están creados, incluso si no han escrito ningún post. Esto facilita un posterior ataque por fuerza bruta o diccionario, ya que sabemos los usuarios y tenemos que obtener sus contraseñas</H2>"
    },
    {
      "metadata": {},
      "cell_type": "markdown",
      "source": "<p><H3>Hay muchas herramientas que se han diseñado para enumerar usuarios de WordPress. Una de las más conocidas y completas es WPScan, pero para Azure Notebooks necesitamos herramientas que se ejecuten sobre Python, R o F#</H3></p>\n<p><H3>Aquí vamos a usar WPBrute para enumerar los usuarios</H3></p>"
    },
    {
      "metadata": {},
      "cell_type": "markdown",
      "source": "<H5>Empezamos clonando el proyecto</H5>"
    },
    {
      "metadata": {
        "trusted": true
      },
      "cell_type": "code",
      "source": "!git clone https://github.com/rootz1337/wpbrute.git",
      "execution_count": null,
      "outputs": []
    },
    {
      "metadata": {},
      "cell_type": "markdown",
      "source": "<H5>Para evitar problemas de permisos y de rutas relativas, movemos el proyecto a la raíz</H5>"
    },
    {
      "metadata": {
        "trusted": true
      },
      "cell_type": "code",
      "source": "!mv wpbrute/* .",
      "execution_count": null,
      "outputs": []
    },
    {
      "metadata": {},
      "cell_type": "markdown",
      "source": "<H5>Instalamos los requisitos de esta herramienta, que se encuentran en el archivo req.txt</H5>"
    },
    {
      "metadata": {
        "trusted": true
      },
      "cell_type": "code",
      "source": "!pip install -r req.txt",
      "execution_count": null,
      "outputs": []
    },
    {
      "metadata": {},
      "cell_type": "markdown",
      "source": "<H5>Y ya podemos lanzarlo contra nuestra instalación de WordPress</H5>"
    },
    {
      "metadata": {
        "trusted": true,
        "scrolled": false
      },
      "cell_type": "code",
      "source": "!python wpbrute.py --url https://www.azurebrains.com/",
      "execution_count": null,
      "outputs": []
    },
    {
      "metadata": {
        "trusted": true
      },
      "cell_type": "code",
      "source": "",
      "execution_count": null,
      "outputs": []
    }
  ],
  "metadata": {
    "kernelspec": {
      "name": "python36",
      "display_name": "Python 3.6",
      "language": "python"
    },
    "language_info": {
      "mimetype": "text/x-python",
      "nbconvert_exporter": "python",
      "name": "python",
      "pygments_lexer": "ipython3",
      "version": "3.6.6",
      "file_extension": ".py",
      "codemirror_mode": {
        "version": 3,
        "name": "ipython"
      }
    }
  },
  "nbformat": 4,
  "nbformat_minor": 2
}